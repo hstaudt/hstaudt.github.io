{
 "cells": [
  {
   "cell_type": "markdown",
   "id": "06fd9a17",
   "metadata": {},
   "source": [
    "# First Post\n",
    "This is the first post in thins Blog"
   ]
  },
  {
   "cell_type": "code",
   "execution_count": null,
   "id": "b9557acc",
   "metadata": {},
   "outputs": [
    {
     "name": "stdout",
     "output_type": "stream",
     "text": [
      "2023-06-01 13:25:33.273028\n"
     ]
    }
   ],
   "source": [
    "import datetime\n",
    "print(datetime.datetime.now())"
   ]
  },
  {
   "cell_type": "markdown",
   "id": "f56e1842",
   "metadata": {},
   "source": [
    "Above datetime is now() :-)"
   ]
  },
  {
   "cell_type": "markdown",
   "id": "396d08ff",
   "metadata": {},
   "source": [
    "Einstein's theory of special relatively that expresses the equivalence of mass and energy:\n",
    "\n",
    "$E = mc^{2}$"
   ]
  }
 ],
 "metadata": {
  "kernelspec": {
   "display_name": "python3",
   "language": "python",
   "name": "python3"
  }
 },
 "nbformat": 4,
 "nbformat_minor": 5
}
